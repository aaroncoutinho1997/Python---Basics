{
 "cells": [
  {
   "cell_type": "markdown",
   "metadata": {},
   "source": [
    "# Homework 02 - Dynamic Typing "
   ]
  },
  {
   "cell_type": "markdown",
   "metadata": {},
   "source": [
    "### What type (int, string, etc) of object is variable `a` pointing at at the end of the code?  Why is this possibe?"
   ]
  },
  {
   "cell_type": "markdown",
   "metadata": {},
   "source": [
    "## you can delete a variable from the memory using the `del` keyword followed by the variable name\n",
    "\n",
    "as an example `del a` will delete variable `a` from the memory"
   ]
  },
  {
   "cell_type": "code",
   "execution_count": 4,
   "metadata": {},
   "outputs": [
    {
     "data": {
      "text/plain": [
       "float"
      ]
     },
     "execution_count": 4,
     "metadata": {},
     "output_type": "execute_result"
    }
   ],
   "source": [
    "a = 54\n",
    "a='test'\n",
    "a=5.4\n",
    "type(a) "
   ]
  },
  {
   "cell_type": "code",
   "execution_count": 2,
   "metadata": {},
   "outputs": [],
   "source": [
    "#At the end of the code variable a will point out object as 'float' because at the last variable 'a' was intialized with a float value\n"
   ]
  },
  {
   "cell_type": "markdown",
   "metadata": {
    "collapsed": true
   },
   "source": [
    "### What is the fewest number of variables I need to delete to free up memory?"
   ]
  },
  {
   "cell_type": "code",
   "execution_count": 6,
   "metadata": {},
   "outputs": [],
   "source": [
    "a=b=4\n",
    "\n",
    "del b,a"
   ]
  },
  {
   "cell_type": "code",
   "execution_count": null,
   "metadata": {},
   "outputs": [],
   "source": [
    "#deleting a or b can free up the memory ."
   ]
  },
  {
   "cell_type": "markdown",
   "metadata": {},
   "source": [
    "### In your own words, why b is not equal to 'string'"
   ]
  },
  {
   "cell_type": "code",
   "execution_count": 6,
   "metadata": {},
   "outputs": [
    {
     "name": "stdout",
     "output_type": "stream",
     "text": [
      "test\n"
     ]
    }
   ],
   "source": [
    "a = 'test'\n",
    "b = a\n",
    "\n",
    "a = 'string'\n",
    "\n",
    "print(b)"
   ]
  },
  {
   "cell_type": "code",
   "execution_count": null,
   "metadata": {},
   "outputs": [],
   "source": [
    "''# As b was assigned a's value i:e- 'test'..so b has now the vaue as test and a  again has been assigned a new value as 'string'..\n",
    "# so  b was  not assigned agin  a's value..so b  is not equal to 'string'"
   ]
  }
 ],
 "metadata": {
  "anaconda-cloud": {},
  "kernelspec": {
   "display_name": "Python 3",
   "language": "python",
   "name": "python3"
  },
  "language_info": {
   "codemirror_mode": {
    "name": "ipython",
    "version": 3
   },
   "file_extension": ".py",
   "mimetype": "text/x-python",
   "name": "python",
   "nbconvert_exporter": "python",
   "pygments_lexer": "ipython3",
   "version": "3.7.6"
  }
 },
 "nbformat": 4,
 "nbformat_minor": 2
}
