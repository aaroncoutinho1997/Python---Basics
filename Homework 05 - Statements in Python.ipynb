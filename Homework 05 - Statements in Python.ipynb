{
 "cells": [
  {
   "cell_type": "markdown",
   "metadata": {
    "collapsed": true
   },
   "source": [
    "# Homework 06 - Statements in Python"
   ]
  },
  {
   "cell_type": "markdown",
   "metadata": {},
   "source": [
    "### In one line assign both a and b to 17"
   ]
  },
  {
   "cell_type": "code",
   "execution_count": 3,
   "metadata": {},
   "outputs": [],
   "source": [
    "a=b = 17"
   ]
  },
  {
   "cell_type": "markdown",
   "metadata": {},
   "source": [
    "### In one line assign each character in the string to a different variable.  Print all the variables (need not be on a single line)."
   ]
  },
  {
   "cell_type": "code",
   "execution_count": null,
   "metadata": {},
   "outputs": [],
   "source": []
  },
  {
   "cell_type": "markdown",
   "metadata": {},
   "source": [
    "### Remove the last item from the list and print it in a single line"
   ]
  },
  {
   "cell_type": "code",
   "execution_count": 6,
   "metadata": {},
   "outputs": [
    {
     "name": "stdout",
     "output_type": "stream",
     "text": [
      "['spades', 'diamonds', 'clubs']\n"
     ]
    }
   ],
   "source": [
    "suits = ['spades', 'diamonds', 'clubs', 'hearts']\n",
    "suits.remove('hearts')\n",
    "print(suits)"
   ]
  },
  {
   "cell_type": "markdown",
   "metadata": {},
   "source": [
    "### Add 'king' to the end of the list, then print the full list"
   ]
  },
  {
   "cell_type": "code",
   "execution_count": 16,
   "metadata": {},
   "outputs": [
    {
     "name": "stdout",
     "output_type": "stream",
     "text": [
      "['ace', '2', '3', '4', '5', '6', '7', '8', '9', '10', 'jack', 'queen', 'king']\n"
     ]
    }
   ],
   "source": [
    "card_values = ['ace','2','3','4','5','6','7','8','9','10','jack','queen']\n",
    "card_values.insert(13 ,'king')\n",
    "print(card_values)"
   ]
  },
  {
   "cell_type": "markdown",
   "metadata": {},
   "source": [
    "### Create a series of if statements that will tell me if a given card value from the provided list is greater than, less than, or equal to 7.  Treat 'ace' as though it has a value of 1.\n",
    "\n",
    "For example, if you are provided '3', your code should print out:\n",
    "3 is less than 7\n",
    "\n",
    "If you are provided 'king', your code should print out:\n",
    "king is greater than 7\n",
    "\n",
    "If you are provided a '7', your code should print out:\n",
    "7 is equal to 7"
   ]
  },
  {
   "cell_type": "code",
   "execution_count": 3,
   "metadata": {},
   "outputs": [
    {
     "name": "stdout",
     "output_type": "stream",
     "text": [
      "Enter the number :-10\n",
      "Number is greater than 7\n"
     ]
    }
   ],
   "source": [
    "num =int(input('Enter the number :-'))\n",
    "if num<7:\n",
    "    print('Number is less than 7')\n",
    "elif num==7:\n",
    "    print('Number is equal to 7')\n",
    "else:\n",
    "    print('Number is greater than 7')"
   ]
  },
  {
   "cell_type": "markdown",
   "metadata": {},
   "source": [
    "### Given a card value from the provided list, print out its representative number.\n",
    "\n",
    "For example, if you are provided '8' your code should print out:\n",
    "8 is equal to 8\n",
    "\n",
    "if you are provided 'king' your code should print out:\n",
    "king is equal to 13"
   ]
  },
  {
   "cell_type": "code",
   "execution_count": null,
   "metadata": {},
   "outputs": [],
   "source": []
  },
  {
   "cell_type": "markdown",
   "metadata": {},
   "source": [
    "### Loop through the following list of values, adding them as you go.  Once the value is greater than 50 print the sum and stop."
   ]
  },
  {
   "cell_type": "code",
   "execution_count": 52,
   "metadata": {},
   "outputs": [
    {
     "name": "stdout",
     "output_type": "stream",
     "text": [
      "The numbers greater than 50 : 1\n"
     ]
    }
   ],
   "source": [
    "test_list = [1,3,9,3,18,9,21,19,7,12,15,22,29,65]\n"
   ]
  },
  {
   "cell_type": "markdown",
   "metadata": {},
   "source": [
    "### Print each element of the list until you reach the value of 12, then stop.  Use a while loop."
   ]
  },
  {
   "cell_type": "code",
   "execution_count": null,
   "metadata": {},
   "outputs": [],
   "source": [
    "test_list = [1,3,9,3,18,9,21,19,7,12,15,22,29,65]"
   ]
  },
  {
   "cell_type": "markdown",
   "metadata": {},
   "source": [
    "### Print each element of the list until you reach the value of 12, then stop.  Use a for loop."
   ]
  },
  {
   "cell_type": "code",
   "execution_count": null,
   "metadata": {},
   "outputs": [],
   "source": [
    "test_list = [1,3,9,3,18,9,21,19,7,12,15,22,29,65]"
   ]
  },
  {
   "cell_type": "markdown",
   "metadata": {},
   "source": [
    "### Print each element of the list\n",
    "\n",
    "The first few printed lines should be:\n",
    "\n",
    "The element is equal to 1\n",
    "\n",
    "The element is equal to 3\n",
    "\n",
    "The element is equal to 9"
   ]
  },
  {
   "cell_type": "code",
   "execution_count": null,
   "metadata": {},
   "outputs": [],
   "source": [
    "test_list = [1,3,9,3,18,9,21,19,7,12,15,22,29,65]"
   ]
  },
  {
   "cell_type": "markdown",
   "metadata": {},
   "source": [
    "### Print each key/value pair from the dictionary\n",
    "\n",
    "The form of each printed line should be:\n",
    "\n",
    "The [team] are from [city or state]\n",
    "\n",
    "for example:\n",
    "\n",
    "The Red Wings are from Detroit"
   ]
  },
  {
   "cell_type": "code",
   "execution_count": null,
   "metadata": {},
   "outputs": [],
   "source": [
    "atlantic = {'Boston':'Bruins', 'Buffalo': 'Sabres', 'Detroit': 'Red Wings', \n",
    "            'Florida':'Panthers', 'Montreal':'Canadiens', 'Ottawa':'Senators', \n",
    "            'Tampa Bay': 'Lightning', 'Toronto':'Maple Leafs'}"
   ]
  },
  {
   "cell_type": "markdown",
   "metadata": {},
   "source": [
    "### Create a list of every (natural) number from 17 to 129"
   ]
  },
  {
   "cell_type": "code",
   "execution_count": 27,
   "metadata": {},
   "outputs": [
    {
     "name": "stdout",
     "output_type": "stream",
     "text": [
      "17  18  19  20  21  22  23  24  25  26  27  28  29  30  31  32  33  34  35  36  37  38  39  40  41  42  43  44  45  46  47  48  49  50  51  52  53  54  55  56  57  58  59  60  61  62  63  64  65  66  67  68  69  70  71  72  73  74  75  76  77  78  79  80  81  82  83  84  85  86  87  88  89  90  91  92  93  94  95  96  97  98  99  100  101  102  103  104  105  106  107  108  109  110  111  112  113  114  115  116  117  118  119  120  121  122  123  124  125  126  127  128  129  "
     ]
    }
   ],
   "source": [
    "i = 17\n",
    "while ( i <= 129):\n",
    "    print (i, end = '  ')\n",
    "    i = i + 1"
   ]
  },
  {
   "cell_type": "markdown",
   "metadata": {},
   "source": [
    "### Print the lenght of the following list"
   ]
  },
  {
   "cell_type": "code",
   "execution_count": 26,
   "metadata": {},
   "outputs": [
    {
     "name": "stdout",
     "output_type": "stream",
     "text": [
      "14\n"
     ]
    }
   ],
   "source": [
    "test_list = [1,3,9,3,18,9,21,19,7,12,15,22,29,65]\n",
    "print(len(test_list))"
   ]
  },
  {
   "cell_type": "markdown",
   "metadata": {},
   "source": [
    "### Using zip, create a dictionary, named metropolitan, using the values in the location list as the keys and the the teams in the team list as the values"
   ]
  },
  {
   "cell_type": "code",
   "execution_count": null,
   "metadata": {},
   "outputs": [],
   "source": [
    "location = ['Carolina', 'Columbus', 'New Jersey', 'New York 1', 'New York 2', 'Philadelphia', 'Pittsburgh', 'Washington']\n",
    "team = ['Hurricanes', 'Blue Jackets', 'Devils', 'Islanders', 'Rangers', 'Flyers', 'Penguins', 'Capitals']"
   ]
  },
  {
   "cell_type": "markdown",
   "metadata": {},
   "source": [
    "### For each element in the list print out its index and its corresponding value\n",
    "\n",
    "Use the format:\n",
    "\n",
    "0: 1\n",
    "\n",
    "1: 3\n",
    "\n",
    "2: 9"
   ]
  },
  {
   "cell_type": "code",
   "execution_count": null,
   "metadata": {},
   "outputs": [],
   "source": [
    "test_list = [1,3,9,3,18,9,21,19,7,12,15,22,29,65]"
   ]
  },
  {
   "cell_type": "markdown",
   "metadata": {},
   "source": [
    "### Create a list of tuples for each card in a deck of cards using the provided lists.  Then print out each tuple on its own seperate line.\n",
    "\n",
    "For example, your list should have as elements:\n",
    "\n",
    "('king','clubs')\n",
    "\n",
    "('3', 'diamonds')\n",
    "\n",
    "('ace', 'hearts')"
   ]
  },
  {
   "cell_type": "code",
   "execution_count": null,
   "metadata": {},
   "outputs": [],
   "source": [
    "card_values = ['ace','2','3','4','5','6','7','8','9','10','jack','queen','king']\n",
    "suits = ['spades', 'diamonds', 'clubs', 'hearts']"
   ]
  }
 ],
 "metadata": {
  "anaconda-cloud": {},
  "kernelspec": {
   "display_name": "Python 3",
   "language": "python",
   "name": "python3"
  },
  "language_info": {
   "codemirror_mode": {
    "name": "ipython",
    "version": 3
   },
   "file_extension": ".py",
   "mimetype": "text/x-python",
   "name": "python",
   "nbconvert_exporter": "python",
   "pygments_lexer": "ipython3",
   "version": "3.7.6"
  }
 },
 "nbformat": 4,
 "nbformat_minor": 2
}
