{
 "cells": [
  {
   "cell_type": "markdown",
   "metadata": {},
   "source": [
    "# Homework 07 - Introduction to Functions\n",
    "\n",
    "For each of the function problems below, maintain the name of both the functions and the arguments.  If you change either you will be marked down.\n",
    "\n",
    "You can add or change default values if you want though."
   ]
  },
  {
   "cell_type": "markdown",
   "metadata": {},
   "source": [
    "### Create a function, named my_add, that returns the sum of two numbers"
   ]
  },
  {
   "cell_type": "code",
   "execution_count": 5,
   "metadata": {},
   "outputs": [],
   "source": [
    "def my_add():\n",
    "    my_add = a + b\n",
    "    total = my_add()\n",
    "    a = input(\"Enter the first num\")\n",
    "    a = int(a)\n",
    "    b = input(\"Enter the second num\")\n",
    "    b = int(b)\n",
    "    print(total)"
   ]
  },
  {
   "cell_type": "markdown",
   "metadata": {},
   "source": [
    "### Create a function, called my_factorial, which returns the factorial of the provided number.\n",
    "\n",
    "https://en.wikipedia.org/wiki/Factorial"
   ]
  },
  {
   "cell_type": "code",
   "execution_count": 18,
   "metadata": {},
   "outputs": [
    {
     "name": "stdout",
     "output_type": "stream",
     "text": [
      "Enter the number5\n",
      "The factorial of 5 is 120\n"
     ]
    }
   ],
   "source": [
    "# Python program to find the factorial of a number provided by the user.\n",
    "\n",
    "# change the value for a different result\n",
    "num = input (\"Enter the number\")\n",
    "num = int(num)\n",
    "# To take input from the user\n",
    "#num = int(input(\"Enter a number: \"))\n",
    "\n",
    "factorial = 1\n",
    "\n",
    "# check if the number is negative, positive or zero\n",
    "if num < 0:\n",
    "   print(\"Sorry, factorial does not exist for negative numbers\")\n",
    "elif num == 0:\n",
    "   print(\"The factorial of 0 is 1\")\n",
    "else:\n",
    "   for i in range(1,num + 1):\n",
    "       factorial = factorial*i\n",
    "   print(\"The factorial of\",num,\"is\",factorial)\n"
   ]
  },
  {
   "cell_type": "markdown",
   "metadata": {},
   "source": [
    "### Create a function, named odd_or_even, that tells me if the provided integer is odd or even"
   ]
  },
  {
   "cell_type": "code",
   "execution_count": 31,
   "metadata": {},
   "outputs": [
    {
     "name": "stdout",
     "output_type": "stream",
     "text": [
      "odd\n",
      "Enter the number:2\n"
     ]
    }
   ],
   "source": [
    "def odd_or_even():\n",
    "    num = input (\"Enter the number:\")\n",
    "    num = int(num)\n",
    "if (num%2==0):\n",
    "    print (\"even\")\n",
    "else:\n",
    "    print (\"odd\")\n",
    "odd_or_even()"
   ]
  },
  {
   "cell_type": "markdown",
   "metadata": {},
   "source": [
    " ### Create a function, named divisors, which tells me every number from 1 upto the original value that divides the original evenly\n",
    "\n",
    "For example, given 15 divisors should return the list [1,3,5,15]\n",
    "\n",
    "Given 1, divisors should return the list [1]\n",
    "\n",
    "Given 11, divisors should return the list [1,11]"
   ]
  },
  {
   "cell_type": "code",
   "execution_count": 34,
   "metadata": {},
   "outputs": [
    {
     "ename": "IndentationError",
     "evalue": "unindent does not match any outer indentation level (<tokenize>, line 16)",
     "output_type": "error",
     "traceback": [
      "\u001b[1;36m  File \u001b[1;32m\"<tokenize>\"\u001b[1;36m, line \u001b[1;32m16\u001b[0m\n\u001b[1;33m    i = i + 1\u001b[0m\n\u001b[1;37m    ^\u001b[0m\n\u001b[1;31mIndentationError\u001b[0m\u001b[1;31m:\u001b[0m unindent does not match any outer indentation level\n"
     ]
    }
   ],
   "source": [
    "def divisors():\n",
    "    num = int(input(\"Enter the number:\"))\n",
    "      i = 1\n",
    "    while i <= n : \n",
    "        if (n % i==0) : \n",
    "            print i, \n",
    "        i = i + 1\n",
    "          \n",
    "# Driver method \n",
    "print \"The divisors the number  are: \"\n",
    "divisors():"
   ]
  },
  {
   "cell_type": "markdown",
   "metadata": {},
   "source": [
    "### Create a function, named fibonacci, which returns a list of all the Fibonacci numbers less than the provided value\n",
    "\n",
    "For exampe, given 15, the returned list should be [1,1,2,3,5,8,13]\n",
    "\n",
    "https://en.wikipedia.org/wiki/Fibonacci_number"
   ]
  },
  {
   "cell_type": "code",
   "execution_count": 45,
   "metadata": {},
   "outputs": [
    {
     "name": "stdout",
     "output_type": "stream",
     "text": [
      "Enter the num:10\n",
      "[1, 1, 2, 3, 5, 8, 13, 21, 34]\n"
     ]
    }
   ],
   "source": [
    "def fibonacci():\n",
    "    num = int(input(\"Enter the num:\"))\n",
    "    \n",
    "    count = 0\n",
    "    a= 1\n",
    "    b= 1\n",
    "    list= []\n",
    "    list.append(a)\n",
    "    while (count<num-2):\n",
    "        list.append(b)\n",
    "        c =  a + b\n",
    "        a = b\n",
    "        b = c\n",
    "        count  =  count + 1\n",
    "    print(list)\n",
    "fibonacci()\n",
    "    "
   ]
  },
  {
   "cell_type": "markdown",
   "metadata": {},
   "source": [
    "### Create a function, called palindrome, which tells me if the provided string is a palindrome (same forwards as backwards)\n",
    "\n",
    "Don't worry about puncuation\n",
    "\n",
    "http://examples.yourdictionary.com/palindrome-examples.html\n",
    "\n",
    "https://en.wikipedia.org/wiki/Palindrome"
   ]
  },
  {
   "cell_type": "code",
   "execution_count": null,
   "metadata": {},
   "outputs": [],
   "source": []
  },
  {
   "cell_type": "markdown",
   "metadata": {},
   "source": [
    "### Write a function, called my_sort, which takes a list of numbers as input and returns the values sorted from smallest to largest\n",
    "\n",
    "Dont use any built in sort functions"
   ]
  },
  {
   "cell_type": "code",
   "execution_count": null,
   "metadata": {},
   "outputs": [],
   "source": [
    "def my_sort():\n",
    "    num = int(input(\"Enter the digits\"))\n",
    "    "
   ]
  },
  {
   "cell_type": "code",
   "execution_count": 46,
   "metadata": {},
   "outputs": [
    {
     "name": "stdout",
     "output_type": "stream",
     "text": [
      "[-64, -26, -15, 1, 15, 23, 23, 76]\n"
     ]
    }
   ],
   "source": [
    "my_list = [-15, -26, 15, 1, 23, -64, 23, 76]\n",
    "new_list = []\n",
    "\n",
    "while my_list:\n",
    "    min = my_list[0]  \n",
    "    for x in my_list: \n",
    "        if x < min:\n",
    "            min = x\n",
    "    new_list.append(min)\n",
    "    my_list.remove(min)    \n",
    "\n",
    "print(new_list)"
   ]
  },
  {
   "cell_type": "markdown",
   "metadata": {},
   "source": [
    "### Create a function called my_power which raises the first number to the power of the second number.  The second number should default to 2 if nothing else is given."
   ]
  },
  {
   "cell_type": "code",
   "execution_count": null,
   "metadata": {},
   "outputs": [],
   "source": []
  },
  {
   "cell_type": "markdown",
   "metadata": {},
   "source": [
    "### Write a function, called my_sum, which adds an set (of unknown lenght) of number together.\n",
    "\n",
    "Don't use the built-in sum function or numpy's sum funciton"
   ]
  },
  {
   "cell_type": "code",
   "execution_count": 50,
   "metadata": {},
   "outputs": [
    {
     "name": "stdout",
     "output_type": "stream",
     "text": [
      "{'f', 'c', 'a', 'b', 'd', 'e'}\n"
     ]
    }
   ],
   "source": [
    "\n",
    "a = {'a','b','c'} \n",
    "b = {'d','e','f'}\n",
    "c = a|b\n",
    "print(c)\n"
   ]
  },
  {
   "cell_type": "markdown",
   "metadata": {},
   "source": [
    "### Create a function, basic_calc, which takes two values, a and b, and potentially multiple operations as a key words (add, subtract, multiply, divide).  It then returns a list of the result of the two value and the various operations\n",
    "\n",
    "For example, given the function call\n",
    "\n",
    "basic_calc(5,9,'subtract')\n",
    "\n",
    "would return -4"
   ]
  },
  {
   "cell_type": "markdown",
   "metadata": {},
   "source": [
    "The function call\n",
    "\n",
    "basic_calc(13.0,7.0,'add','subtract','divide','add')\n",
    "\n",
    "would return [20.0, 5.0, 1.857, 20.0]"
   ]
  },
  {
   "cell_type": "code",
   "execution_count": 51,
   "metadata": {},
   "outputs": [
    {
     "name": "stdout",
     "output_type": "stream",
     "text": [
      "Enter first number:5\n",
      "Enter second number:5\n",
      "Enter the choice:\n",
      "1.Add\n",
      "2.Sub\n",
      "3.Multiple\n",
      "4.divide\n",
      "1\n",
      "10.0\n"
     ]
    }
   ],
   "source": [
    "a = float(input('Enter first number:'))\n",
    "b = float(input('Enter second number:'))\n",
    "\n",
    "\n",
    "def add(a,b): \n",
    "    return a+b\n",
    "def subtract(a,b): \n",
    "    return a-b\n",
    "def multiply(a,b): \n",
    "    return a*b\n",
    "def divide(a,b): \n",
    "    return a/b\n",
    "  \n",
    "choice = input('Enter the choice:\\n1.Add\\n2.Sub\\n3.Multiple\\n4.divide\\n')\n",
    "choice = int(choice)\n",
    "if(choice == 1):\n",
    "    print(a+b)\n",
    "elif(choice == 2):\n",
    "    print(a-b)\n",
    "elif(choice == 3):\n",
    "    print(a*b)\n",
    "elif(choice == 4):\n",
    "    print(a/b)\n",
    "else:\n",
    "    print('wrong choice')"
   ]
  },
  {
   "cell_type": "code",
   "execution_count": null,
   "metadata": {},
   "outputs": [],
   "source": []
  }
 ],
 "metadata": {
  "anaconda-cloud": {},
  "kernelspec": {
   "display_name": "Python 3",
   "language": "python",
   "name": "python3"
  },
  "language_info": {
   "codemirror_mode": {
    "name": "ipython",
    "version": 3
   },
   "file_extension": ".py",
   "mimetype": "text/x-python",
   "name": "python",
   "nbconvert_exporter": "python",
   "pygments_lexer": "ipython3",
   "version": "3.7.6"
  }
 },
 "nbformat": 4,
 "nbformat_minor": 2
}
