{
 "cells": [
  {
   "cell_type": "markdown",
   "metadata": {
    "collapsed": true
   },
   "source": [
    "# Homework 04 - Built in Data Structures"
   ]
  },
  {
   "cell_type": "markdown",
   "metadata": {},
   "source": [
    "### Create a list containing 4 different types of elements"
   ]
  },
  {
   "cell_type": "code",
   "execution_count": 2,
   "metadata": {},
   "outputs": [
    {
     "name": "stdout",
     "output_type": "stream",
     "text": [
      "[1, 'A', 0.1, True]\n"
     ]
    }
   ],
   "source": [
    "list1 =[1,'A',0.1,True]\n",
    "print(list1)\n"
   ]
  },
  {
   "cell_type": "markdown",
   "metadata": {},
   "source": [
    "### Create a list of all the characters in the provided sting"
   ]
  },
  {
   "cell_type": "code",
   "execution_count": 3,
   "metadata": {},
   "outputs": [
    {
     "name": "stdout",
     "output_type": "stream",
     "text": [
      "['H', 'a', 'r', 'r', 'y', ' ', 'P', 'o', 't', 't', 'e', 'r', ' ', 'a', 'n', 'd', ' ', 't', 'h', 'e', ' ', 'P', 'r', 'i', 's', 'o', 'n', 'e', 'r', ' ', 'o', 'f', ' ', 'A', 'z', 'k', 'a', 'b', 'a', 'n']\n"
     ]
    }
   ],
   "source": [
    "string_a = 'Harry Potter and the Prisoner of Azkaban'\n",
    "string_a = list(string_a)\n",
    "print(string_a)\n"
   ]
  },
  {
   "cell_type": "markdown",
   "metadata": {},
   "source": [
    "### Create a list of 3 lists, each with containting three 1s"
   ]
  },
  {
   "cell_type": "code",
   "execution_count": 34,
   "metadata": {},
   "outputs": [
    {
     "name": "stdout",
     "output_type": "stream",
     "text": [
      "[[1, 1, 1], [1, 1, 1], [1, 1, 1]]\n"
     ]
    }
   ],
   "source": [
    "list1=[[1,1,1],[1,1,1],[1,1,1]]\n",
    "print(list1)"
   ]
  },
  {
   "cell_type": "markdown",
   "metadata": {},
   "source": [
    "### What is the first and third elements of the provided list"
   ]
  },
  {
   "cell_type": "code",
   "execution_count": 11,
   "metadata": {},
   "outputs": [
    {
     "name": "stdout",
     "output_type": "stream",
     "text": [
      "Gryffindor\n",
      "Hufflepuff\n"
     ]
    }
   ],
   "source": [
    "houses = ['Gryffindor','Ravenclaw','Hufflepuff','Slytherin']\n",
    "print(houses [0])\n",
    "print(houses [2])\n",
    "\n"
   ]
  },
  {
   "cell_type": "markdown",
   "metadata": {},
   "source": [
    "### Print out a list of the last two elements of the provided list"
   ]
  },
  {
   "cell_type": "code",
   "execution_count": 13,
   "metadata": {},
   "outputs": [
    {
     "name": "stdout",
     "output_type": "stream",
     "text": [
      "Slytherin\n",
      "Hufflepuff\n"
     ]
    }
   ],
   "source": [
    "houses = ['Gryffindor','Ravenclaw','Hufflepuff','Slytherin']\n",
    "print(houses[-1])\n",
    "print(houses[-2])\n"
   ]
  },
  {
   "cell_type": "markdown",
   "metadata": {},
   "source": [
    "### Print the provided list in reverse order"
   ]
  },
  {
   "cell_type": "code",
   "execution_count": 15,
   "metadata": {},
   "outputs": [
    {
     "name": "stdout",
     "output_type": "stream",
     "text": [
      "['Slytherin', 'Hufflepuff', 'Ravenclaw', 'Gryffindor']\n"
     ]
    }
   ],
   "source": [
    "houses = ['Gryffindor','Ravenclaw','Hufflepuff','Slytherin']\n",
    "houses.reverse()\n",
    "print(houses)"
   ]
  },
  {
   "cell_type": "markdown",
   "metadata": {},
   "source": [
    "### What is the length of the provided list"
   ]
  },
  {
   "cell_type": "code",
   "execution_count": 17,
   "metadata": {},
   "outputs": [
    {
     "name": "stdout",
     "output_type": "stream",
     "text": [
      "4\n"
     ]
    }
   ],
   "source": [
    "houses = ['Gryffindor','Ravenclaw','Hufflepuff','Slytherin']\n",
    "print(len(houses))\n"
   ]
  },
  {
   "cell_type": "markdown",
   "metadata": {},
   "source": [
    "### Concatenate the following two lists"
   ]
  },
  {
   "cell_type": "code",
   "execution_count": 18,
   "metadata": {},
   "outputs": [
    {
     "name": "stdout",
     "output_type": "stream",
     "text": [
      "[2, 3, 5, 7, 11, 13, 17, 19, 23, 29, 31, 37, 41, 43, 47, 53, 59, 61, 67, 71, 73, 79, 83, 89, 97, 101]\n"
     ]
    }
   ],
   "source": [
    "list_a = [2, 3, 5, 7, 11, 13, 17, 19, 23, 29, 31, 37, 41, 43, 47]\n",
    "list_b = [53, 59, 61, 67, 71, 73, 79, 83, 89, 97, 101]\n",
    "\n",
    "list_c = list_a + list_b\n",
    "print(list_c)"
   ]
  },
  {
   "cell_type": "markdown",
   "metadata": {},
   "source": [
    "### Make a list with the following list values repeated 4 time"
   ]
  },
  {
   "cell_type": "code",
   "execution_count": 1,
   "metadata": {},
   "outputs": [
    {
     "name": "stdout",
     "output_type": "stream",
     "text": [
      "['Gryffindor', 'Ravenclaw', 'Hufflepuff', 'Slytherin', 'Gryffindor', 'Ravenclaw', 'Hufflepuff', 'Slytherin', 'Gryffindor', 'Ravenclaw', 'Hufflepuff', 'Slytherin', 'Gryffindor', 'Ravenclaw', 'Hufflepuff', 'Slytherin']\n"
     ]
    }
   ],
   "source": [
    "houses = ['Gryffindor','Ravenclaw','Hufflepuff','Slytherin']\n",
    "\n",
    "ans = houses * 4\n",
    "print(ans)"
   ]
  },
  {
   "cell_type": "markdown",
   "metadata": {},
   "source": [
    "### What is the index of 73 in the provided list"
   ]
  },
  {
   "cell_type": "code",
   "execution_count": 2,
   "metadata": {},
   "outputs": [
    {
     "data": {
      "text/plain": [
       "20"
      ]
     },
     "execution_count": 2,
     "metadata": {},
     "output_type": "execute_result"
    }
   ],
   "source": [
    "primes = [2, 3, 5, 7, 11, 13, 17, 19, 23, 29, 31, 37, 41, 43, 47, 53, 59, 61, 67, 71, 73, 79, 83, 89, 97, 101]\n",
    "\n",
    "primes.index(73)"
   ]
  },
  {
   "cell_type": "markdown",
   "metadata": {},
   "source": [
    "### Is 42 in the provided list?"
   ]
  },
  {
   "cell_type": "code",
   "execution_count": 3,
   "metadata": {},
   "outputs": [
    {
     "name": "stdout",
     "output_type": "stream",
     "text": [
      "value not there\n",
      "babaaababa\n"
     ]
    }
   ],
   "source": [
    "primes = [2, 3, 5, 7, 11, 13, 17, 19, 23, 29, 31, 37, 41, 43, 47, 53, 59, 61, 67, 71, 73, 79, 83, 89, 97, 101]\n",
    "\n",
    "try:\n",
    "     primes.index(42)\n",
    "except:\n",
    "    print(\"value not there\")\n",
    "    print(\"babaaababa\")"
   ]
  },
  {
   "cell_type": "markdown",
   "metadata": {},
   "source": [
    "### Add the next prime number, 103, to the provided list"
   ]
  },
  {
   "cell_type": "code",
   "execution_count": 6,
   "metadata": {},
   "outputs": [
    {
     "name": "stdout",
     "output_type": "stream",
     "text": [
      "[2, 3, 5, 7, 11, 13, 17, 19, 23, 29, 31, 37, 41, 43, 47, 53, 59, 61, 67, 71, 73, 79, 83, 89, 97, 101, 103]\n"
     ]
    }
   ],
   "source": [
    "primes = [2, 3, 5, 7, 11, 13, 17, 19, 23, 29, 31, 37, 41, 43, 47, 53, 59, 61, 67, 71, 73, 79, 83, 89, 97, 101]\n",
    "\n",
    "primes.append(103)\n",
    "print(primes)"
   ]
  },
  {
   "cell_type": "markdown",
   "metadata": {},
   "source": [
    "### Remove the last prime number in the list"
   ]
  },
  {
   "cell_type": "code",
   "execution_count": 3,
   "metadata": {},
   "outputs": [
    {
     "name": "stdout",
     "output_type": "stream",
     "text": [
      "[2, 3, 5, 7, 11, 13, 17, 19, 23, 29, 31, 37, 41, 43, 47, 53, 59, 61, 67, 71, 73, 79, 83, 89, 97]\n"
     ]
    }
   ],
   "source": [
    "primes = [2, 3, 5, 7, 11, 13, 17, 19, 23, 29, 31, 37, 41, 43, 47, 53, 59, 61, 67, 71, 73, 79, 83, 89, 97, 101]\n",
    "\n",
    "del primes[-1]\n",
    "print(primes)"
   ]
  },
  {
   "cell_type": "markdown",
   "metadata": {},
   "source": [
    "### Insert 42 into the the appropriate place to maintain order in the list"
   ]
  },
  {
   "cell_type": "code",
   "execution_count": 14,
   "metadata": {},
   "outputs": [
    {
     "name": "stdout",
     "output_type": "stream",
     "text": [
      "[2, 3, 5, 7, 11, 13, 17, 19, 23, 29, 31, 37, 41, 42, 43, 47, 53, 59, 61, 67, 71, 73, 79, 83, 89, 97, 101]\n"
     ]
    }
   ],
   "source": [
    "primes = [2, 3, 5, 7, 11, 13, 17, 19, 23, 29, 31, 37, 41, 43, 47, 53, 59, 61, 67, 71, 73, 79, 83, 89, 97, 101]\n",
    "primes.insert(13 ,42)\n",
    "print(primes)"
   ]
  },
  {
   "cell_type": "code",
   "execution_count": null,
   "metadata": {},
   "outputs": [],
   "source": [
    "primes = [2, 3, 5, 7, 11, 13, 17, 19, 23, 29, 31, 37, 41, 43, 47, 53, 59, 61, 67, 71, 73, 79, 83, 89, 97, 101]\n",
    "def insert(primes,n):\n",
    "    for i in range(len(primes)+1):\n",
    "        if primes[i] > n:\n",
    "            index = i\n",
    "            break\n",
    "            \n",
    "        primes = primes[:i]+ [n] + primes[i:]\n",
    "        return primes\n",
    "   \n",
    "    n = 42\n",
    "    print(insert(primes,n))"
   ]
  },
  {
   "cell_type": "markdown",
   "metadata": {},
   "source": [
    "### Howmany 'fish' are in the provided list"
   ]
  },
  {
   "cell_type": "code",
   "execution_count": 21,
   "metadata": {},
   "outputs": [
    {
     "data": {
      "text/plain": [
       "2"
      ]
     },
     "execution_count": 21,
     "metadata": {},
     "output_type": "execute_result"
    }
   ],
   "source": [
    "seuss = ['one', 'fist', 'two', 'fish', 'red', 'fist', 'blue', 'fish']\n",
    "\n",
    "seuss.count('fish')\n"
   ]
  },
  {
   "cell_type": "markdown",
   "metadata": {},
   "source": [
    "### Sort the provided list in ascending order"
   ]
  },
  {
   "cell_type": "code",
   "execution_count": 22,
   "metadata": {},
   "outputs": [
    {
     "name": "stdout",
     "output_type": "stream",
     "text": [
      "[0, 1, 2, 3, 4, 5, 6, 7, 8, 9]\n"
     ]
    }
   ],
   "source": [
    "digits = [8,4,1,3,0,2,7,6,5,9]\n",
    "digits.sort()\n",
    "print(digits)"
   ]
  },
  {
   "cell_type": "markdown",
   "metadata": {},
   "source": [
    "### Sort the provided list in decending order"
   ]
  },
  {
   "cell_type": "code",
   "execution_count": 26,
   "metadata": {},
   "outputs": [
    {
     "name": "stdout",
     "output_type": "stream",
     "text": [
      "[9, 8, 7, 6, 5, 4, 3, 2, 1, 0]\n"
     ]
    }
   ],
   "source": [
    "digits = [8,4,1,3,0,2,7,6,5,9]\n",
    "digits.sort(reverse = True)\n",
    "print(digits)"
   ]
  },
  {
   "cell_type": "markdown",
   "metadata": {},
   "source": [
    "### Reverse the provided list "
   ]
  },
  {
   "cell_type": "code",
   "execution_count": 27,
   "metadata": {},
   "outputs": [
    {
     "name": "stdout",
     "output_type": "stream",
     "text": [
      "['fish', 'blue', 'fist', 'red', 'fish', 'two', 'fist', 'one']\n"
     ]
    }
   ],
   "source": [
    "seuss = ['one', 'fist', 'two', 'fish', 'red', 'fist', 'blue', 'fish']\n",
    "seuss.reverse()\n",
    "print(seuss)"
   ]
  },
  {
   "cell_type": "markdown",
   "metadata": {},
   "source": [
    "### Remove Gryffindor from the provided list and print the result"
   ]
  },
  {
   "cell_type": "code",
   "execution_count": 30,
   "metadata": {},
   "outputs": [
    {
     "name": "stdout",
     "output_type": "stream",
     "text": [
      "['Ravenclaw', 'Hufflepuff', 'Slytherin']\n"
     ]
    }
   ],
   "source": [
    "houses = ['Gryffindor','Ravenclaw','Hufflepuff','Slytherin']\n",
    "houses.remove('Gryffindor')\n",
    "print(houses)"
   ]
  },
  {
   "cell_type": "markdown",
   "metadata": {},
   "source": [
    "### Create a 3x3 matrix using lists of lists composed entierly of 1s"
   ]
  },
  {
   "cell_type": "code",
   "execution_count": 1,
   "metadata": {},
   "outputs": [
    {
     "ename": "SyntaxError",
     "evalue": "invalid syntax (<ipython-input-1-54e6bf84993b>, line 4)",
     "output_type": "error",
     "traceback": [
      "\u001b[1;36m  File \u001b[1;32m\"<ipython-input-1-54e6bf84993b>\"\u001b[1;36m, line \u001b[1;32m4\u001b[0m\n\u001b[1;33m    text = np.array(text)\u001b[0m\n\u001b[1;37m       ^\u001b[0m\n\u001b[1;31mSyntaxError\u001b[0m\u001b[1;31m:\u001b[0m invalid syntax\n"
     ]
    }
   ],
   "source": [
    "import numpy as np\n",
    "text = [[1,1,1,1,1,1,1,1,1]\n",
    "        \n",
    "        text = np.array(text)\n",
    "\n",
    "     print text[0].reshape((3, 3))"
   ]
  },
  {
   "cell_type": "markdown",
   "metadata": {},
   "source": [
    "### Create a list with your name, major, and graduating year"
   ]
  },
  {
   "cell_type": "code",
   "execution_count": 2,
   "metadata": {},
   "outputs": [
    {
     "name": "stdout",
     "output_type": "stream",
     "text": [
      "('Aaron', 'second class', '2019')\n"
     ]
    }
   ],
   "source": [
    "list1 = ('Aaron','second class','2019')\n",
    "print(list1)"
   ]
  },
  {
   "cell_type": "markdown",
   "metadata": {},
   "source": [
    "### Create a dictionary with at least four entries where the keys are the last names of your favorite authors, and the value is your favourite book of theirs"
   ]
  },
  {
   "cell_type": "code",
   "execution_count": 3,
   "metadata": {},
   "outputs": [
    {
     "name": "stdout",
     "output_type": "stream",
     "text": [
      "{'C.S. Pandit': 'End of the Era', 'Amitav Ghosh': 'Shadow Lines', 'Indira Gandhi': 'My Truth, Eternal India', 'Kautilya': 'Arthashastra', 'K. R. Malkani': 'India First'}\n"
     ]
    }
   ],
   "source": [
    "dict1 = {'C.S. Pandit' :'End of the Era' ,'Amitav Ghosh' :'Shadow Lines','Indira Gandhi':'My Truth, Eternal India','Kautilya' :'Arthashastra','K. R. Malkani':'India First'}\n",
    "print(dict1)\n"
   ]
  },
  {
   "cell_type": "markdown",
   "metadata": {},
   "source": [
    "### Show me the house roster for Ravenclaw"
   ]
  },
  {
   "cell_type": "code",
   "execution_count": 4,
   "metadata": {},
   "outputs": [
    {
     "data": {
      "text/plain": [
       "['Luna', 'Gilderoy', 'Penelope', 'Filius']"
      ]
     },
     "execution_count": 4,
     "metadata": {},
     "output_type": "execute_result"
    }
   ],
   "source": [
    "house_roster = {'Gryffindor':['Harry','Ron','Hermione','Neville'],'Ravenclaw':['Luna', 'Gilderoy', 'Penelope', 'Filius'],'Hufflepuff':['Newton', 'Nymphadora', 'Cedric', 'Teddy'],'Slytherin':['Tom', 'Draco', 'Regulus', 'Narcissa']}\n",
    "house_roster['Ravenclaw']"
   ]
  },
  {
   "cell_type": "markdown",
   "metadata": {},
   "source": [
    "### Delete all the Gryffindor information from the following dictionary "
   ]
  },
  {
   "cell_type": "code",
   "execution_count": 7,
   "metadata": {},
   "outputs": [
    {
     "name": "stdout",
     "output_type": "stream",
     "text": [
      "{'Ravenclaw': ['Luna', 'Gilderoy', 'Penelope', 'Filius'], 'Hufflepuff': ['Newton', 'Nymphadora', 'Cedric', 'Teddy'], 'Slytherin': ['Tom', 'Draco', 'Regulus', 'Narcissa']}\n"
     ]
    }
   ],
   "source": [
    "house_roster = {'Gryffindor':['Harry','Ron','Hermione','Neville'],'Ravenclaw':['Luna', 'Gilderoy', 'Penelope', 'Filius'],'Hufflepuff':['Newton', 'Nymphadora', 'Cedric', 'Teddy'],'Slytherin':['Tom', 'Draco', 'Regulus', 'Narcissa']}\n",
    "del house_roster['Gryffindor']\n",
    "print(house_roster)"
   ]
  },
  {
   "cell_type": "markdown",
   "metadata": {},
   "source": [
    "### Print all the keys in the provided dictionary"
   ]
  },
  {
   "cell_type": "code",
   "execution_count": 10,
   "metadata": {},
   "outputs": [
    {
     "name": "stdout",
     "output_type": "stream",
     "text": [
      "['Gryffindor', 'Ravenclaw', 'Hufflepuff', 'Slytherin']\n"
     ]
    }
   ],
   "source": [
    "house_roster = {'Gryffindor':['Harry','Ron','Hermione','Neville'],'Ravenclaw':['Luna', 'Gilderoy', 'Penelope', 'Filius'],'Hufflepuff':['Newton', 'Nymphadora', 'Cedric', 'Teddy'],'Slytherin':['Tom', 'Draco', 'Regulus', 'Narcissa']}\n",
    "keys = house_roster.keys()\n",
    "print(list(keys))"
   ]
  },
  {
   "cell_type": "markdown",
   "metadata": {},
   "source": [
    "### Print all the values in the provided dictionary"
   ]
  },
  {
   "cell_type": "code",
   "execution_count": 15,
   "metadata": {},
   "outputs": [
    {
     "name": "stdout",
     "output_type": "stream",
     "text": [
      "[['Harry', 'Ron', 'Hermione', 'Neville'], ['Luna', 'Gilderoy', 'Penelope', 'Filius'], ['Newton', 'Nymphadora', 'Cedric', 'Teddy'], ['Tom', 'Draco', 'Regulus', 'Narcissa']]\n"
     ]
    }
   ],
   "source": [
    "house_roster = {'Gryffindor':['Harry','Ron','Hermione','Neville'],'Ravenclaw':['Luna', 'Gilderoy', 'Penelope', 'Filius'],'Hufflepuff':['Newton', 'Nymphadora', 'Cedric', 'Teddy'],'Slytherin':['Tom', 'Draco', 'Regulus', 'Narcissa']}\n",
    "values = house_roster.values ()\n",
    "print(list(values))"
   ]
  },
  {
   "cell_type": "markdown",
   "metadata": {},
   "source": [
    "### Make a copy of the following dictionary, then add Abraxas to the Slytherine roster and print the result"
   ]
  },
  {
   "cell_type": "code",
   "execution_count": 17,
   "metadata": {},
   "outputs": [
    {
     "name": "stdout",
     "output_type": "stream",
     "text": [
      "{'Gryffindor': ['Harry', 'Ron', 'Hermione', 'Neville'], 'Ravenclaw': ['Luna', 'Gilderoy', 'Penelope', 'Filius'], 'Hufflepuff': ['Newton', 'Nymphadora', 'Cedric', 'Teddy'], 'Slytherin': ['Tom', 'Draco', 'Regulus', 'Narcissa', 'Abraxas']}\n"
     ]
    }
   ],
   "source": [
    "house_roster = {'Gryffindor':['Harry','Ron','Hermione','Neville'],'Ravenclaw':['Luna', 'Gilderoy', 'Penelope', 'Filius'],'Hufflepuff':['Newton', 'Nymphadora', 'Cedric', 'Teddy'],'Slytherin':['Tom', 'Draco', 'Regulus', 'Narcissa']}\n",
    "house_roster1 = house_roster.copy ()\n",
    "house_roster1['Slytherin'].append('Abraxas')\n",
    "print(house_roster1)"
   ]
  },
  {
   "cell_type": "markdown",
   "metadata": {},
   "source": [
    "### Clear the provided dictionary and provide the result"
   ]
  },
  {
   "cell_type": "code",
   "execution_count": 20,
   "metadata": {},
   "outputs": [
    {
     "data": {
      "text/plain": [
       "{}"
      ]
     },
     "execution_count": 20,
     "metadata": {},
     "output_type": "execute_result"
    }
   ],
   "source": [
    "house_roster = {'Gryffindor':['Harry','Ron','Hermione','Neville'],'Ravenclaw':['Luna', 'Gilderoy', 'Penelope', 'Filius'],'Hufflepuff':['Newton', 'Nymphadora', 'Cedric', 'Teddy'],'Slytherin':['Tom', 'Draco', 'Regulus', 'Narcissa']}\n",
    "house_roster.clear ()\n",
    "house_roster"
   ]
  },
  {
   "cell_type": "markdown",
   "metadata": {},
   "source": [
    "### Pop Gryffindor from the following dictionary.  Print out the list of those Gryffindor students and the updated dictionary"
   ]
  },
  {
   "cell_type": "code",
   "execution_count": 22,
   "metadata": {},
   "outputs": [
    {
     "data": {
      "text/plain": [
       "['Harry', 'Ron', 'Hermione', 'Neville']"
      ]
     },
     "execution_count": 22,
     "metadata": {},
     "output_type": "execute_result"
    }
   ],
   "source": [
    "house_roster = {'Gryffindor':['Harry','Ron','Hermione','Neville'],'Ravenclaw':['Luna', 'Gilderoy', 'Penelope', 'Filius'],'Hufflepuff':['Newton', 'Nymphadora', 'Cedric', 'Teddy'],'Slytherin':['Tom', 'Draco', 'Regulus', 'Narcissa']}\n",
    "house_roster.pop('Gryffindor')\n"
   ]
  },
  {
   "cell_type": "markdown",
   "metadata": {},
   "source": [
    "### Pop a random item from the provided list and print its key/value pair"
   ]
  },
  {
   "cell_type": "code",
   "execution_count": 24,
   "metadata": {},
   "outputs": [
    {
     "data": {
      "text/plain": [
       "('Slytherin', ['Tom', 'Draco', 'Regulus', 'Narcissa'])"
      ]
     },
     "execution_count": 24,
     "metadata": {},
     "output_type": "execute_result"
    }
   ],
   "source": [
    "house_roster = {'Gryffindor':['Harry','Ron','Hermione','Neville'],'Ravenclaw':['Luna', 'Gilderoy', 'Penelope', 'Filius'],'Hufflepuff':['Newton', 'Nymphadora', 'Cedric', 'Teddy'],'Slytherin':['Tom', 'Draco', 'Regulus', 'Narcissa']}\n",
    "house_roster.popitem ()"
   ]
  },
  {
   "cell_type": "markdown",
   "metadata": {},
   "source": [
    "### Search for 'Diagon Alley' in the keys of the dictionary, and it its not there, return 'Not found'"
   ]
  },
  {
   "cell_type": "code",
   "execution_count": 28,
   "metadata": {},
   "outputs": [
    {
     "data": {
      "text/plain": [
       "'not found'"
      ]
     },
     "execution_count": 28,
     "metadata": {},
     "output_type": "execute_result"
    }
   ],
   "source": [
    "house_roster = {'Gryffindor':['Harry','Ron','Hermione','Neville'],'Ravenclaw':['Luna', 'Gilderoy', 'Penelope', 'Filius'],'Hufflepuff':['Newton', 'Nymphadora', 'Cedric', 'Teddy'],'Slytherin':['Tom', 'Draco', 'Regulus', 'Narcissa']}\n",
    "house_roster.get('Diagon Alley','not found')"
   ]
  },
  {
   "cell_type": "markdown",
   "metadata": {},
   "source": [
    "### What is the length of the dictionary"
   ]
  },
  {
   "cell_type": "code",
   "execution_count": 3,
   "metadata": {},
   "outputs": [
    {
     "data": {
      "text/plain": [
       "4"
      ]
     },
     "execution_count": 3,
     "metadata": {},
     "output_type": "execute_result"
    }
   ],
   "source": [
    "house_roster = {'Gryffindor':['Harry','Ron','Hermione','Neville'],'Ravenclaw':['Luna', 'Gilderoy', 'Penelope', 'Filius'],'Hufflepuff':['Newton', 'Nymphadora', 'Cedric', 'Teddy'],'Slytherin':['Tom', 'Draco', 'Regulus', 'Narcissa']}\n",
    "len(house_roster)"
   ]
  },
  {
   "cell_type": "markdown",
   "metadata": {},
   "source": [
    "### Print only the area code of the below phone number"
   ]
  },
  {
   "cell_type": "code",
   "execution_count": 15,
   "metadata": {},
   "outputs": [
    {
     "data": {
      "text/plain": [
       "(5, 1, 3)"
      ]
     },
     "execution_count": 15,
     "metadata": {},
     "output_type": "execute_result"
    }
   ],
   "source": [
    "phone = ('(', 5, 1, 3, ')',' ',8,6,7,'-',5,3,0,9)\n",
    "\n",
    "area = phone[1:4]\n",
    "area\n",
    "    "
   ]
  },
  {
   "cell_type": "code",
   "execution_count": 20,
   "metadata": {},
   "outputs": [
    {
     "data": {
      "text/plain": [
       "'513'"
      ]
     },
     "execution_count": 20,
     "metadata": {},
     "output_type": "execute_result"
    }
   ],
   "source": [
    " ans = []\n",
    "for num in area:\n",
    "        ans.append(str(num))\n",
    "    \n",
    "\"\".join(ans)"
   ]
  },
  {
   "cell_type": "markdown",
   "metadata": {},
   "source": [
    "### Print the phone number without the area code, include the '-'"
   ]
  },
  {
   "cell_type": "code",
   "execution_count": 21,
   "metadata": {},
   "outputs": [
    {
     "data": {
      "text/plain": [
       "'867-5309'"
      ]
     },
     "execution_count": 21,
     "metadata": {},
     "output_type": "execute_result"
    }
   ],
   "source": [
    "phone = ('(', 5, 1, 3, ')',' ',8,6,7,'-',5,3,0,9)\n",
    "\n",
    "number  = phone[6:]\n",
    "number\n",
    "\n",
    "ans = []\n",
    "for num in number:\n",
    "    ans.append(str(num))\n",
    "    \n",
    "\"\".join(ans)"
   ]
  },
  {
   "cell_type": "markdown",
   "metadata": {},
   "source": [
    "### Print the length of the tuple"
   ]
  },
  {
   "cell_type": "code",
   "execution_count": 36,
   "metadata": {},
   "outputs": [
    {
     "data": {
      "text/plain": [
       "14"
      ]
     },
     "execution_count": 36,
     "metadata": {},
     "output_type": "execute_result"
    }
   ],
   "source": [
    "phone = ('(', 5, 1, 3, ')',' ',8,6,7,'-',5,3,0,9)\n",
    "len(phone)"
   ]
  },
  {
   "cell_type": "markdown",
   "metadata": {},
   "source": [
    "### Concatenae the phone_number and the area_code, along with anything else, to create a tuple equal to phone_complete"
   ]
  },
  {
   "cell_type": "code",
   "execution_count": 24,
   "metadata": {},
   "outputs": [
    {
     "data": {
      "text/plain": [
       "('(', 5, 1, 3, ')', 8, 6, 7, '-', 5, 3, 0, 9)"
      ]
     },
     "execution_count": 24,
     "metadata": {},
     "output_type": "execute_result"
    }
   ],
   "source": [
    "area_code = (5, 1, 3)\n",
    "phone_number = (8,6,7,'-',5,3,0,9)\n",
    "phone_complete = ('(', 5, 1, 3, ')',' ',8,6,7,'-',5,3,0,9)\n",
    "\n",
    "('(',) + area_code + (')',) + phone_number\n",
    "\n",
    "\n",
    "\n"
   ]
  },
  {
   "cell_type": "markdown",
   "metadata": {},
   "source": [
    "### Using the phone number below, create a tuple of just the numbers (none of the symbols) reapeated 3 times.\n",
    "\n",
    "This tuple should have a total lenght on 30"
   ]
  },
  {
   "cell_type": "code",
   "execution_count": 27,
   "metadata": {},
   "outputs": [
    {
     "data": {
      "text/plain": [
       "(5, 1, 3)"
      ]
     },
     "execution_count": 27,
     "metadata": {},
     "output_type": "execute_result"
    }
   ],
   "source": [
    "phone_complete = ('(', 5, 1, 3, ')',' ',8,6,7,'-',5,3,0,9)\n",
    "\n",
    "phone_complete[1:4]\n"
   ]
  },
  {
   "cell_type": "code",
   "execution_count": 28,
   "metadata": {},
   "outputs": [
    {
     "data": {
      "text/plain": [
       "(8, 6, 7)"
      ]
     },
     "execution_count": 28,
     "metadata": {},
     "output_type": "execute_result"
    }
   ],
   "source": [
    "phone_complete[6:9]"
   ]
  },
  {
   "cell_type": "code",
   "execution_count": 29,
   "metadata": {},
   "outputs": [
    {
     "data": {
      "text/plain": [
       "(5, 3, 0, 9)"
      ]
     },
     "execution_count": 29,
     "metadata": {},
     "output_type": "execute_result"
    }
   ],
   "source": [
    "phone_complete[10:]"
   ]
  },
  {
   "cell_type": "code",
   "execution_count": 34,
   "metadata": {},
   "outputs": [
    {
     "name": "stdout",
     "output_type": "stream",
     "text": [
      "(5, 1, 3, 5, 3, 0, 9)\n"
     ]
    }
   ],
   "source": [
    "    a = phone_complete[1:4] + phone_complete[9:4]+ phone_complete[10:]\n",
    "    print(a)\n",
    "    "
   ]
  },
  {
   "cell_type": "code",
   "execution_count": 35,
   "metadata": {},
   "outputs": [
    {
     "name": "stdout",
     "output_type": "stream",
     "text": [
      "(5, 1, 3, 5, 3, 0, 9, 5, 1, 3, 5, 3, 0, 9, 5, 1, 3, 5, 3, 0, 9)\n"
     ]
    }
   ],
   "source": [
    "    b = (a*3)\n",
    "    print(b)"
   ]
  },
  {
   "cell_type": "markdown",
   "metadata": {},
   "source": [
    "### Print the number of times \"Never gonna let you down\" is in the tuple."
   ]
  },
  {
   "cell_type": "code",
   "execution_count": 39,
   "metadata": {},
   "outputs": [
    {
     "data": {
      "text/plain": [
       "6"
      ]
     },
     "execution_count": 39,
     "metadata": {},
     "output_type": "execute_result"
    }
   ],
   "source": [
    "astley = (\"We're no strangers to love\",\n",
    "\"You know the rules and so do I\",\n",
    "\"A full commitment's what I'm thinking of\",\n",
    "\"You wouldn't get this from any other guy\",\n",
    "\"I just wanna tell you how I'm feeling\",\n",
    "\"Gotta make you understand\",\n",
    "\"Never gonna give you up\",\n",
    "\"Never gonna let you down\",\n",
    "\"Never gonna run around and desert you\",\n",
    "\"Never gonna make you cry\",\n",
    "\"Never gonna say goodbye\",\n",
    "\"Never gonna tell a lie and hurt you\",\n",
    "\"We've known each other for so long\",\n",
    "\"Your heart's been aching, but\",\n",
    "\"You're too shy to say it\",\n",
    "\"Inside, we both know what's been going on\",\n",
    "\"We know the game and we're gonna play it\",\n",
    "\"And if you ask me how I'm feeling\",\n",
    "\"Don't tell me you're too blind to see\",\n",
    "\"Never gonna give you up\",\n",
    "\"Never gonna let you down\",\n",
    "\"Never gonna run around and desert you\",\n",
    "\"Never gonna make you cry\",\n",
    "\"Never gonna say goodbye\",\n",
    "\"Never gonna tell a lie and hurt you\",\n",
    "\"Never gonna give you up\",\n",
    "\"Never gonna let you down\",\n",
    "\"Never gonna run around and desert you\",\n",
    "\"Never gonna make you cry\",\n",
    "\"Never gonna say goodbye\",\n",
    "\"Never gonna tell a lie and hurt you\",\n",
    "\"(Ooh, give you up)\",\n",
    "\"(Ooh, give you up)\",\n",
    "\"Never gonna give, never gonna give\",\n",
    "\"(Give you up)\",\n",
    "\"Never gonna give, never gonna give\",\n",
    "\"(Give you up)\",\n",
    "\"We've known each other for so long\",\n",
    "\"Your heart's been aching, but\",\n",
    "\"You're too shy to say it\",\n",
    "\"Inside, we both know what's been going on\",\n",
    "\"We know the game and we're gonna play it\",\n",
    "\"I just wanna tell you how I'm feeling\",\n",
    "\"Gotta make you understand\",\n",
    "\"Never gonna give you up\",\n",
    "\"Never gonna let you down\",\n",
    "\"Never gonna run around and desert you\",\n",
    "\"Never gonna make you cry\",\n",
    "\"Never gonna say goodbye\",\n",
    "\"Never gonna tell a lie and hurt you\",\n",
    "\"Never gonna give you up\",\n",
    "\"Never gonna let you down\",\n",
    "\"Never gonna run around and desert you\",\n",
    "\"Never gonna make you cry\",\n",
    "\"Never gonna say goodbye\",\n",
    "\"Never gonna tell a lie and hurt you\",\n",
    "\"Never gonna give you up\",\n",
    "\"Never gonna let you down\",\n",
    "\"Never gonna run around and desert you\",\n",
    "\"Never gonna make you cry\",\n",
    "\"Never gonna say goodbye\",\n",
    "\"Never gonna tell a lie and hurt you\")\n",
    "\n",
    "\n",
    "\n",
    "\n",
    "astley.count(\"Never gonna give you up\")\n"
   ]
  },
  {
   "cell_type": "code",
   "execution_count": null,
   "metadata": {},
   "outputs": [],
   "source": []
  }
 ],
 "metadata": {
  "anaconda-cloud": {},
  "kernelspec": {
   "display_name": "Python 3",
   "language": "python",
   "name": "python3"
  },
  "language_info": {
   "codemirror_mode": {
    "name": "ipython",
    "version": 3
   },
   "file_extension": ".py",
   "mimetype": "text/x-python",
   "name": "python",
   "nbconvert_exporter": "python",
   "pygments_lexer": "ipython3",
   "version": "3.7.6"
  }
 },
 "nbformat": 4,
 "nbformat_minor": 2
}
